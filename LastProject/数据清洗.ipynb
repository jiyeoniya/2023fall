{
 "cells": [
  {
   "cell_type": "code",
   "execution_count": 2,
   "metadata": {
    "collapsed": false
   },
   "outputs": [],
   "source": [
    "import collections\n",
    "import re\n",
    "import pandas as pd\n",
    "import numpy as np\n",
    "import os\n",
    "import matplotlib.pyplot as plt"
   ]
  },
  {
   "cell_type": "code",
   "execution_count": 3,
   "metadata": {
    "collapsed": false
   },
   "outputs": [],
   "source": [
    "data = pd.read_csv('job.csv')\n",
    "df = pd.DataFrame(data)"
   ]
  },
  {
   "cell_type": "code",
   "execution_count": 4,
   "metadata": {
    "collapsed": false
   },
   "outputs": [],
   "source": [
    "plt.rcParams['font.sans-serif'] = ['SimHei']  # 显示中文标签\n",
    "plt.rcParams['axes.unicode_minus'] = False  # 设置正常显示符号\n",
    "pd.set_option('max_colwidth',100)"
   ]
  },
  {
   "cell_type": "code",
   "execution_count": 5,
   "metadata": {
    "collapsed": false
   },
   "outputs": [
    {
     "data": {
      "text/html": [
       "<div>\n",
       "<style scoped>\n",
       "    .dataframe tbody tr th:only-of-type {\n",
       "        vertical-align: middle;\n",
       "    }\n",
       "\n",
       "    .dataframe tbody tr th {\n",
       "        vertical-align: top;\n",
       "    }\n",
       "\n",
       "    .dataframe thead th {\n",
       "        text-align: right;\n",
       "    }\n",
       "</style>\n",
       "<table border=\"1\" class=\"dataframe\">\n",
       "  <thead>\n",
       "    <tr style=\"text-align: right;\">\n",
       "      <th></th>\n",
       "      <th>工作名称</th>\n",
       "      <th>工作地点</th>\n",
       "      <th>工作公司</th>\n",
       "      <th>工作薪资</th>\n",
       "      <th>工作学历</th>\n",
       "      <th>工作标签</th>\n",
       "      <th>工作经验</th>\n",
       "      <th>招聘详情页链接</th>\n",
       "    </tr>\n",
       "  </thead>\n",
       "  <tbody>\n",
       "    <tr>\n",
       "      <th>0</th>\n",
       "      <td>高级python开发工程师</td>\n",
       "      <td>北京·朝阳区·百子湾</td>\n",
       "      <td>迈外迪</td>\n",
       "      <td>20-35K</td>\n",
       "      <td>本科</td>\n",
       "      <td>新零售</td>\n",
       "      <td>5-10年</td>\n",
       "      <td>https://www.zhipin.com/gongsi/7fdcdfff003aeae11XZ_3dW9Eg~~.html</td>\n",
       "    </tr>\n",
       "    <tr>\n",
       "      <th>1</th>\n",
       "      <td>Python工程师</td>\n",
       "      <td>北京·海淀区·西北旺</td>\n",
       "      <td>纬创软件</td>\n",
       "      <td>15-24K</td>\n",
       "      <td>大专</td>\n",
       "      <td>计算机软件</td>\n",
       "      <td>3-5年</td>\n",
       "      <td>https://www.zhipin.com/gongsi/fc705eb462e9b27b1HJ-2t60GA~~.html</td>\n",
       "    </tr>\n",
       "    <tr>\n",
       "      <th>2</th>\n",
       "      <td>仿真开发工程师</td>\n",
       "      <td>北京·海淀区·五道口</td>\n",
       "      <td>魔门塔科技</td>\n",
       "      <td>20-40K</td>\n",
       "      <td>本科</td>\n",
       "      <td>计算机软件</td>\n",
       "      <td>1-3年</td>\n",
       "      <td>https://www.zhipin.com/gongsi/a3fff9582538ae7f03J92d27.html</td>\n",
       "    </tr>\n",
       "    <tr>\n",
       "      <th>3</th>\n",
       "      <td>软件工程师-通才</td>\n",
       "      <td>北京·海淀区·西北旺</td>\n",
       "      <td>小马慧行</td>\n",
       "      <td>30-60K·16薪</td>\n",
       "      <td>本科</td>\n",
       "      <td>互联网</td>\n",
       "      <td>3-5年</td>\n",
       "      <td>https://www.zhipin.com/gongsi/946657ff8adb68be3nFy3928GQ~~.html</td>\n",
       "    </tr>\n",
       "    <tr>\n",
       "      <th>4</th>\n",
       "      <td>数据服务技术支持专家</td>\n",
       "      <td>北京·朝阳区·鸟巢</td>\n",
       "      <td>今日头条</td>\n",
       "      <td>15-30K</td>\n",
       "      <td>本科</td>\n",
       "      <td>移动互联网</td>\n",
       "      <td>3-5年</td>\n",
       "      <td>https://www.zhipin.com/gongsi/a67b361452e384e71XV82N4~.html</td>\n",
       "    </tr>\n",
       "  </tbody>\n",
       "</table>\n",
       "</div>"
      ],
      "text/plain": [
       "            工作名称        工作地点   工作公司        工作薪资 工作学历   工作标签   工作经验  \\\n",
       "0  高级python开发工程师  北京·朝阳区·百子湾    迈外迪      20-35K   本科    新零售  5-10年   \n",
       "1      Python工程师  北京·海淀区·西北旺   纬创软件      15-24K   大专  计算机软件   3-5年   \n",
       "2        仿真开发工程师  北京·海淀区·五道口  魔门塔科技      20-40K   本科  计算机软件   1-3年   \n",
       "3       软件工程师-通才  北京·海淀区·西北旺   小马慧行  30-60K·16薪   本科    互联网   3-5年   \n",
       "4     数据服务技术支持专家   北京·朝阳区·鸟巢   今日头条      15-30K   本科  移动互联网   3-5年   \n",
       "\n",
       "                                                           招聘详情页链接  \n",
       "0  https://www.zhipin.com/gongsi/7fdcdfff003aeae11XZ_3dW9Eg~~.html  \n",
       "1  https://www.zhipin.com/gongsi/fc705eb462e9b27b1HJ-2t60GA~~.html  \n",
       "2      https://www.zhipin.com/gongsi/a3fff9582538ae7f03J92d27.html  \n",
       "3  https://www.zhipin.com/gongsi/946657ff8adb68be3nFy3928GQ~~.html  \n",
       "4      https://www.zhipin.com/gongsi/a67b361452e384e71XV82N4~.html  "
      ]
     },
     "execution_count": 5,
     "metadata": {},
     "output_type": "execute_result"
    }
   ],
   "source": [
    "df.head()"
   ]
  },
  {
   "cell_type": "code",
   "execution_count": 6,
   "metadata": {
    "collapsed": false
   },
   "outputs": [
    {
     "name": "stdout",
     "output_type": "stream",
     "text": [
      "\n",
      "查看是否有缺失值\n",
      " 工作名称       0\n",
      "工作地点       0\n",
      "工作公司       0\n",
      "工作薪资       0\n",
      "工作学历       0\n",
      "工作标签       0\n",
      "工作经验       0\n",
      "招聘详情页链接    0\n",
      "dtype: int64\n"
     ]
    }
   ],
   "source": [
    "print(\"\\n查看是否有缺失值\\n\", df.isnull().sum())"
   ]
  },
  {
   "cell_type": "code",
   "execution_count": 7,
   "metadata": {
    "collapsed": false
   },
   "outputs": [
    {
     "name": "stdout",
     "output_type": "stream",
     "text": [
      "               工作名称            工作地点   工作公司        工作薪资 工作学历   工作标签   工作经验  \\\n",
      "0     高级python开发工程师      北京·朝阳区·百子湾    迈外迪      20-35K   本科    新零售  5-10年   \n",
      "1         Python工程师      北京·海淀区·西北旺   纬创软件      15-24K   大专  计算机软件   3-5年   \n",
      "2           仿真开发工程师      北京·海淀区·五道口  魔门塔科技      20-40K   本科  计算机软件   1-3年   \n",
      "3          软件工程师-通才      北京·海淀区·西北旺   小马慧行  30-60K·16薪   本科    互联网   3-5年   \n",
      "4        数据服务技术支持专家       北京·朝阳区·鸟巢   今日头条      15-30K   本科  移动互联网   3-5年   \n",
      "...             ...             ...    ...         ...  ...    ...    ...   \n",
      "4009         RPA工程师  呼和浩特·赛罕区·乌兰察布路   揉石科技        4-8K   大专  计算机软件   1-3年   \n",
      "4010    Python开发工程师     呼和浩特·新城区·鼓楼   亿丰项目      10-14K   本科  计算机软件   1-3年   \n",
      "4011    Python开发工程师     呼和浩特·新城区·鼓楼     巨鹏        5-7K   大专  移动互联网   1-3年   \n",
      "4012         Python   呼和浩特·赛罕区·大学东路  鄂尔浑软件       5-10K   高中   电子商务   1-3年   \n",
      "4013         Python            呼和浩特   爱扽防伪      10-15K   大专  计算机软件   经验不限   \n",
      "\n",
      "                                                              招聘详情页链接  \n",
      "0     https://www.zhipin.com/gongsi/7fdcdfff003aeae11XZ_3dW9Eg~~.html  \n",
      "1     https://www.zhipin.com/gongsi/fc705eb462e9b27b1HJ-2t60GA~~.html  \n",
      "2         https://www.zhipin.com/gongsi/a3fff9582538ae7f03J92d27.html  \n",
      "3     https://www.zhipin.com/gongsi/946657ff8adb68be3nFy3928GQ~~.html  \n",
      "4         https://www.zhipin.com/gongsi/a67b361452e384e71XV82N4~.html  \n",
      "...                                                               ...  \n",
      "4009  https://www.zhipin.com/gongsi/a264063df7f97eb91nBz0966F1Q~.html  \n",
      "4010  https://www.zhipin.com/gongsi/92a8541420b8858e0nx439y4EA~~.html  \n",
      "4011  https://www.zhipin.com/gongsi/b3867417d88d80ce03B93d27EQ~~.html  \n",
      "4012  https://www.zhipin.com/gongsi/35d66a6f36fb31710HV73d65GA~~.html  \n",
      "4013  https://www.zhipin.com/gongsi/6de58ef017ef6f821nZ539m6FFI~.html  \n",
      "\n",
      "[3939 rows x 8 columns]\n"
     ]
    }
   ],
   "source": [
    "df_keyword = df.loc[~df['工作薪资'].str.contains('元')]\n",
    "print(df_keyword)#筛选带有元的行"
   ]
  },
  {
   "cell_type": "code",
   "execution_count": 8,
   "metadata": {
    "collapsed": false
   },
   "outputs": [],
   "source": [
    "df = df_keyword"
   ]
  },
  {
   "cell_type": "code",
   "execution_count": 9,
   "metadata": {
    "collapsed": false
   },
   "outputs": [
    {
     "name": "stdout",
     "output_type": "stream",
     "text": [
      "0       20\n",
      "1       15\n",
      "2       20\n",
      "3       30\n",
      "4       15\n",
      "        ..\n",
      "4009     4\n",
      "4010    10\n",
      "4011     5\n",
      "4012     5\n",
      "4013    10\n",
      "Name: 0, Length: 3939, dtype: object\n",
      "               工作名称            工作地点   工作公司        工作薪资 最小薪资(K) 工作学历   工作标签  \\\n",
      "0     高级python开发工程师      北京·朝阳区·百子湾    迈外迪      20-35K      20   本科    新零售   \n",
      "1         Python工程师      北京·海淀区·西北旺   纬创软件      15-24K      15   大专  计算机软件   \n",
      "2           仿真开发工程师      北京·海淀区·五道口  魔门塔科技      20-40K      20   本科  计算机软件   \n",
      "3          软件工程师-通才      北京·海淀区·西北旺   小马慧行  30-60K·16薪      30   本科    互联网   \n",
      "4        数据服务技术支持专家       北京·朝阳区·鸟巢   今日头条      15-30K      15   本科  移动互联网   \n",
      "...             ...             ...    ...         ...     ...  ...    ...   \n",
      "4009         RPA工程师  呼和浩特·赛罕区·乌兰察布路   揉石科技        4-8K       4   大专  计算机软件   \n",
      "4010    Python开发工程师     呼和浩特·新城区·鼓楼   亿丰项目      10-14K      10   本科  计算机软件   \n",
      "4011    Python开发工程师     呼和浩特·新城区·鼓楼     巨鹏        5-7K       5   大专  移动互联网   \n",
      "4012         Python   呼和浩特·赛罕区·大学东路  鄂尔浑软件       5-10K       5   高中   电子商务   \n",
      "4013         Python            呼和浩特   爱扽防伪      10-15K      10   大专  计算机软件   \n",
      "\n",
      "       工作经验                                                          招聘详情页链接  \n",
      "0     5-10年  https://www.zhipin.com/gongsi/7fdcdfff003aeae11XZ_3dW9Eg~~.html  \n",
      "1      3-5年  https://www.zhipin.com/gongsi/fc705eb462e9b27b1HJ-2t60GA~~.html  \n",
      "2      1-3年      https://www.zhipin.com/gongsi/a3fff9582538ae7f03J92d27.html  \n",
      "3      3-5年  https://www.zhipin.com/gongsi/946657ff8adb68be3nFy3928GQ~~.html  \n",
      "4      3-5年      https://www.zhipin.com/gongsi/a67b361452e384e71XV82N4~.html  \n",
      "...     ...                                                              ...  \n",
      "4009   1-3年  https://www.zhipin.com/gongsi/a264063df7f97eb91nBz0966F1Q~.html  \n",
      "4010   1-3年  https://www.zhipin.com/gongsi/92a8541420b8858e0nx439y4EA~~.html  \n",
      "4011   1-3年  https://www.zhipin.com/gongsi/b3867417d88d80ce03B93d27EQ~~.html  \n",
      "4012   1-3年  https://www.zhipin.com/gongsi/35d66a6f36fb31710HV73d65GA~~.html  \n",
      "4013   经验不限  https://www.zhipin.com/gongsi/6de58ef017ef6f821nZ539m6FFI~.html  \n",
      "\n",
      "[3939 rows x 9 columns]\n"
     ]
    }
   ],
   "source": [
    "# 最小工资\n",
    "df_salary_min = df['工作薪资'].str.split('-', expand=True)[0]\n",
    "print(df_salary_min)  # 区间最小薪资\n",
    "# Dataframe新增一列  在第 列新增一列名为' ' 的一列 数据\n",
    "df.insert(4, '最小薪资(K)', df_salary_min)\n",
    "print(df)"
   ]
  },
  {
   "cell_type": "code",
   "execution_count": 10,
   "metadata": {
    "collapsed": false
   },
   "outputs": [
    {
     "name": "stdout",
     "output_type": "stream",
     "text": [
      "0       35\n",
      "1       24\n",
      "2       40\n",
      "3       60\n",
      "4       30\n",
      "        ..\n",
      "4009     8\n",
      "4010    14\n",
      "4011     7\n",
      "4012    10\n",
      "4013    15\n",
      "Name: 1, Length: 3939, dtype: object\n",
      "               工作名称            工作地点   工作公司        工作薪资 最大薪资(K) 最小薪资(K) 工作学历  \\\n",
      "0     高级python开发工程师      北京·朝阳区·百子湾    迈外迪      20-35K      35      20   本科   \n",
      "1         Python工程师      北京·海淀区·西北旺   纬创软件      15-24K      24      15   大专   \n",
      "2           仿真开发工程师      北京·海淀区·五道口  魔门塔科技      20-40K      40      20   本科   \n",
      "3          软件工程师-通才      北京·海淀区·西北旺   小马慧行  30-60K·16薪      60      30   本科   \n",
      "4        数据服务技术支持专家       北京·朝阳区·鸟巢   今日头条      15-30K      30      15   本科   \n",
      "...             ...             ...    ...         ...     ...     ...  ...   \n",
      "4009         RPA工程师  呼和浩特·赛罕区·乌兰察布路   揉石科技        4-8K       8       4   大专   \n",
      "4010    Python开发工程师     呼和浩特·新城区·鼓楼   亿丰项目      10-14K      14      10   本科   \n",
      "4011    Python开发工程师     呼和浩特·新城区·鼓楼     巨鹏        5-7K       7       5   大专   \n",
      "4012         Python   呼和浩特·赛罕区·大学东路  鄂尔浑软件       5-10K      10       5   高中   \n",
      "4013         Python            呼和浩特   爱扽防伪      10-15K      15      10   大专   \n",
      "\n",
      "       工作标签   工作经验  \\\n",
      "0       新零售  5-10年   \n",
      "1     计算机软件   3-5年   \n",
      "2     计算机软件   1-3年   \n",
      "3       互联网   3-5年   \n",
      "4     移动互联网   3-5年   \n",
      "...     ...    ...   \n",
      "4009  计算机软件   1-3年   \n",
      "4010  计算机软件   1-3年   \n",
      "4011  移动互联网   1-3年   \n",
      "4012   电子商务   1-3年   \n",
      "4013  计算机软件   经验不限   \n",
      "\n",
      "                                                              招聘详情页链接  \n",
      "0     https://www.zhipin.com/gongsi/7fdcdfff003aeae11XZ_3dW9Eg~~.html  \n",
      "1     https://www.zhipin.com/gongsi/fc705eb462e9b27b1HJ-2t60GA~~.html  \n",
      "2         https://www.zhipin.com/gongsi/a3fff9582538ae7f03J92d27.html  \n",
      "3     https://www.zhipin.com/gongsi/946657ff8adb68be3nFy3928GQ~~.html  \n",
      "4         https://www.zhipin.com/gongsi/a67b361452e384e71XV82N4~.html  \n",
      "...                                                               ...  \n",
      "4009  https://www.zhipin.com/gongsi/a264063df7f97eb91nBz0966F1Q~.html  \n",
      "4010  https://www.zhipin.com/gongsi/92a8541420b8858e0nx439y4EA~~.html  \n",
      "4011  https://www.zhipin.com/gongsi/b3867417d88d80ce03B93d27EQ~~.html  \n",
      "4012  https://www.zhipin.com/gongsi/35d66a6f36fb31710HV73d65GA~~.html  \n",
      "4013  https://www.zhipin.com/gongsi/6de58ef017ef6f821nZ539m6FFI~.html  \n",
      "\n",
      "[3939 rows x 10 columns]\n"
     ]
    }
   ],
   "source": [
    "# 最大工资\n",
    "df_salary_max = df['工作薪资'].str.split('-|K', expand=True)[1]\n",
    "print(df_salary_max)  # 区间最大薪资\n",
    "# Dataframe新增一列  在第 列新增一列名为' ' 的一列 数据\n",
    "df.insert(4, '最大薪资(K)', df_salary_max)\n",
    "print(df)"
   ]
  },
  {
   "cell_type": "code",
   "execution_count": 11,
   "metadata": {
    "collapsed": false
   },
   "outputs": [
    {
     "name": "stdout",
     "output_type": "stream",
     "text": [
      "0         北京\n",
      "1         北京\n",
      "2         北京\n",
      "3         北京\n",
      "4         北京\n",
      "        ... \n",
      "4009    呼和浩特\n",
      "4010    呼和浩特\n",
      "4011    呼和浩特\n",
      "4012    呼和浩特\n",
      "4013    呼和浩特\n",
      "Name: 0, Length: 3939, dtype: object\n",
      "               工作名称  工作城市            工作地点   工作公司        工作薪资 最大薪资(K) 最小薪资(K)  \\\n",
      "0     高级python开发工程师    北京      北京·朝阳区·百子湾    迈外迪      20-35K      35      20   \n",
      "1         Python工程师    北京      北京·海淀区·西北旺   纬创软件      15-24K      24      15   \n",
      "2           仿真开发工程师    北京      北京·海淀区·五道口  魔门塔科技      20-40K      40      20   \n",
      "3          软件工程师-通才    北京      北京·海淀区·西北旺   小马慧行  30-60K·16薪      60      30   \n",
      "4        数据服务技术支持专家    北京       北京·朝阳区·鸟巢   今日头条      15-30K      30      15   \n",
      "...             ...   ...             ...    ...         ...     ...     ...   \n",
      "4009         RPA工程师  呼和浩特  呼和浩特·赛罕区·乌兰察布路   揉石科技        4-8K       8       4   \n",
      "4010    Python开发工程师  呼和浩特     呼和浩特·新城区·鼓楼   亿丰项目      10-14K      14      10   \n",
      "4011    Python开发工程师  呼和浩特     呼和浩特·新城区·鼓楼     巨鹏        5-7K       7       5   \n",
      "4012         Python  呼和浩特   呼和浩特·赛罕区·大学东路  鄂尔浑软件       5-10K      10       5   \n",
      "4013         Python  呼和浩特            呼和浩特   爱扽防伪      10-15K      15      10   \n",
      "\n",
      "     工作学历   工作标签   工作经验  \\\n",
      "0      本科    新零售  5-10年   \n",
      "1      大专  计算机软件   3-5年   \n",
      "2      本科  计算机软件   1-3年   \n",
      "3      本科    互联网   3-5年   \n",
      "4      本科  移动互联网   3-5年   \n",
      "...   ...    ...    ...   \n",
      "4009   大专  计算机软件   1-3年   \n",
      "4010   本科  计算机软件   1-3年   \n",
      "4011   大专  移动互联网   1-3年   \n",
      "4012   高中   电子商务   1-3年   \n",
      "4013   大专  计算机软件   经验不限   \n",
      "\n",
      "                                                              招聘详情页链接  \n",
      "0     https://www.zhipin.com/gongsi/7fdcdfff003aeae11XZ_3dW9Eg~~.html  \n",
      "1     https://www.zhipin.com/gongsi/fc705eb462e9b27b1HJ-2t60GA~~.html  \n",
      "2         https://www.zhipin.com/gongsi/a3fff9582538ae7f03J92d27.html  \n",
      "3     https://www.zhipin.com/gongsi/946657ff8adb68be3nFy3928GQ~~.html  \n",
      "4         https://www.zhipin.com/gongsi/a67b361452e384e71XV82N4~.html  \n",
      "...                                                               ...  \n",
      "4009  https://www.zhipin.com/gongsi/a264063df7f97eb91nBz0966F1Q~.html  \n",
      "4010  https://www.zhipin.com/gongsi/92a8541420b8858e0nx439y4EA~~.html  \n",
      "4011  https://www.zhipin.com/gongsi/b3867417d88d80ce03B93d27EQ~~.html  \n",
      "4012  https://www.zhipin.com/gongsi/35d66a6f36fb31710HV73d65GA~~.html  \n",
      "4013  https://www.zhipin.com/gongsi/6de58ef017ef6f821nZ539m6FFI~.html  \n",
      "\n",
      "[3939 rows x 11 columns]\n"
     ]
    }
   ],
   "source": [
    "# 工作城市\n",
    "df_city = df['工作地点'].str.split('·', expand=True)[0]\n",
    "print(df_city)  # 城市\n",
    "# Dataframe新增一列  在第 列新增一列名为' ' 的一列 数据\n",
    "df.insert(1, '工作城市', df_city)\n",
    "print(df)"
   ]
  },
  {
   "cell_type": "code",
   "execution_count": 12,
   "metadata": {
    "collapsed": false
   },
   "outputs": [],
   "source": [
    "df_avg = (df[\"最大薪资(K)\"].astype(\"int\") + df[\"最小薪资(K)\"].astype(\"int\"))/2"
   ]
  },
  {
   "cell_type": "code",
   "execution_count": 13,
   "metadata": {
    "collapsed": false
   },
   "outputs": [],
   "source": [
    "df.insert(7, '平均工资(K)',df_avg)"
   ]
  },
  {
   "cell_type": "code",
   "execution_count": 14,
   "metadata": {
    "collapsed": false
   },
   "outputs": [],
   "source": [
    "df['工作经验'].replace('3-5年学历','3-5年',inplace=True)\n",
    "df['工作经验'].replace('5-10年学历','5-10年',inplace=True)\n",
    "df['工作经验'].replace('经验不限中专/','经验不限',inplace=True)\n",
    "df['工作经验'].replace('经验不限学历','经验不限',inplace=True)\n",
    "df['工作经验'].replace('1-3年学历','1-3年',inplace=True)\n",
    "df['工作经验'].replace('1年以内学历','1年以内',inplace=True)\n",
    "df['工作经验'].replace('在校/应届学历','在校/应届',inplace=True)\n",
    "df['工作经验'].replace('应届生学历','在校/应届',inplace=True)"
   ]
  },
  {
   "cell_type": "code",
   "execution_count": 15,
   "metadata": {
    "collapsed": false
   },
   "outputs": [
    {
     "data": {
      "text/plain": [
       "array(['5-10年', '3-5年', '1-3年', '经验不限', '1年以内', '在校/应届', '10年以上'],\n",
       "      dtype=object)"
      ]
     },
     "execution_count": 15,
     "metadata": {},
     "output_type": "execute_result"
    }
   ],
   "source": [
    "df['工作经验'].unique()"
   ]
  },
  {
   "cell_type": "code",
   "execution_count": 16,
   "metadata": {
    "collapsed": false
   },
   "outputs": [
    {
     "data": {
      "text/html": [
       "<div>\n",
       "<style scoped>\n",
       "    .dataframe tbody tr th:only-of-type {\n",
       "        vertical-align: middle;\n",
       "    }\n",
       "\n",
       "    .dataframe tbody tr th {\n",
       "        vertical-align: top;\n",
       "    }\n",
       "\n",
       "    .dataframe thead th {\n",
       "        text-align: right;\n",
       "    }\n",
       "</style>\n",
       "<table border=\"1\" class=\"dataframe\">\n",
       "  <thead>\n",
       "    <tr style=\"text-align: right;\">\n",
       "      <th></th>\n",
       "      <th>工作名称</th>\n",
       "      <th>工作城市</th>\n",
       "      <th>工作地点</th>\n",
       "      <th>工作公司</th>\n",
       "      <th>工作薪资</th>\n",
       "      <th>最大薪资(K)</th>\n",
       "      <th>最小薪资(K)</th>\n",
       "      <th>平均工资(K)</th>\n",
       "      <th>工作学历</th>\n",
       "      <th>工作标签</th>\n",
       "      <th>工作经验</th>\n",
       "      <th>招聘详情页链接</th>\n",
       "    </tr>\n",
       "  </thead>\n",
       "  <tbody>\n",
       "    <tr>\n",
       "      <th>0</th>\n",
       "      <td>高级python开发工程师</td>\n",
       "      <td>北京</td>\n",
       "      <td>北京·朝阳区·百子湾</td>\n",
       "      <td>迈外迪</td>\n",
       "      <td>20-35K</td>\n",
       "      <td>35</td>\n",
       "      <td>20</td>\n",
       "      <td>27.5</td>\n",
       "      <td>本科</td>\n",
       "      <td>新零售</td>\n",
       "      <td>5-10年</td>\n",
       "      <td>https://www.zhipin.com/gongsi/7fdcdfff003aeae11XZ_3dW9Eg~~.html</td>\n",
       "    </tr>\n",
       "    <tr>\n",
       "      <th>1</th>\n",
       "      <td>Python工程师</td>\n",
       "      <td>北京</td>\n",
       "      <td>北京·海淀区·西北旺</td>\n",
       "      <td>纬创软件</td>\n",
       "      <td>15-24K</td>\n",
       "      <td>24</td>\n",
       "      <td>15</td>\n",
       "      <td>19.5</td>\n",
       "      <td>大专</td>\n",
       "      <td>计算机软件</td>\n",
       "      <td>3-5年</td>\n",
       "      <td>https://www.zhipin.com/gongsi/fc705eb462e9b27b1HJ-2t60GA~~.html</td>\n",
       "    </tr>\n",
       "    <tr>\n",
       "      <th>2</th>\n",
       "      <td>仿真开发工程师</td>\n",
       "      <td>北京</td>\n",
       "      <td>北京·海淀区·五道口</td>\n",
       "      <td>魔门塔科技</td>\n",
       "      <td>20-40K</td>\n",
       "      <td>40</td>\n",
       "      <td>20</td>\n",
       "      <td>30.0</td>\n",
       "      <td>本科</td>\n",
       "      <td>计算机软件</td>\n",
       "      <td>1-3年</td>\n",
       "      <td>https://www.zhipin.com/gongsi/a3fff9582538ae7f03J92d27.html</td>\n",
       "    </tr>\n",
       "    <tr>\n",
       "      <th>3</th>\n",
       "      <td>软件工程师-通才</td>\n",
       "      <td>北京</td>\n",
       "      <td>北京·海淀区·西北旺</td>\n",
       "      <td>小马慧行</td>\n",
       "      <td>30-60K·16薪</td>\n",
       "      <td>60</td>\n",
       "      <td>30</td>\n",
       "      <td>45.0</td>\n",
       "      <td>本科</td>\n",
       "      <td>互联网</td>\n",
       "      <td>3-5年</td>\n",
       "      <td>https://www.zhipin.com/gongsi/946657ff8adb68be3nFy3928GQ~~.html</td>\n",
       "    </tr>\n",
       "    <tr>\n",
       "      <th>4</th>\n",
       "      <td>数据服务技术支持专家</td>\n",
       "      <td>北京</td>\n",
       "      <td>北京·朝阳区·鸟巢</td>\n",
       "      <td>今日头条</td>\n",
       "      <td>15-30K</td>\n",
       "      <td>30</td>\n",
       "      <td>15</td>\n",
       "      <td>22.5</td>\n",
       "      <td>本科</td>\n",
       "      <td>移动互联网</td>\n",
       "      <td>3-5年</td>\n",
       "      <td>https://www.zhipin.com/gongsi/a67b361452e384e71XV82N4~.html</td>\n",
       "    </tr>\n",
       "    <tr>\n",
       "      <th>...</th>\n",
       "      <td>...</td>\n",
       "      <td>...</td>\n",
       "      <td>...</td>\n",
       "      <td>...</td>\n",
       "      <td>...</td>\n",
       "      <td>...</td>\n",
       "      <td>...</td>\n",
       "      <td>...</td>\n",
       "      <td>...</td>\n",
       "      <td>...</td>\n",
       "      <td>...</td>\n",
       "      <td>...</td>\n",
       "    </tr>\n",
       "    <tr>\n",
       "      <th>4009</th>\n",
       "      <td>RPA工程师</td>\n",
       "      <td>呼和浩特</td>\n",
       "      <td>呼和浩特·赛罕区·乌兰察布路</td>\n",
       "      <td>揉石科技</td>\n",
       "      <td>4-8K</td>\n",
       "      <td>8</td>\n",
       "      <td>4</td>\n",
       "      <td>6.0</td>\n",
       "      <td>大专</td>\n",
       "      <td>计算机软件</td>\n",
       "      <td>1-3年</td>\n",
       "      <td>https://www.zhipin.com/gongsi/a264063df7f97eb91nBz0966F1Q~.html</td>\n",
       "    </tr>\n",
       "    <tr>\n",
       "      <th>4010</th>\n",
       "      <td>Python开发工程师</td>\n",
       "      <td>呼和浩特</td>\n",
       "      <td>呼和浩特·新城区·鼓楼</td>\n",
       "      <td>亿丰项目</td>\n",
       "      <td>10-14K</td>\n",
       "      <td>14</td>\n",
       "      <td>10</td>\n",
       "      <td>12.0</td>\n",
       "      <td>本科</td>\n",
       "      <td>计算机软件</td>\n",
       "      <td>1-3年</td>\n",
       "      <td>https://www.zhipin.com/gongsi/92a8541420b8858e0nx439y4EA~~.html</td>\n",
       "    </tr>\n",
       "    <tr>\n",
       "      <th>4011</th>\n",
       "      <td>Python开发工程师</td>\n",
       "      <td>呼和浩特</td>\n",
       "      <td>呼和浩特·新城区·鼓楼</td>\n",
       "      <td>巨鹏</td>\n",
       "      <td>5-7K</td>\n",
       "      <td>7</td>\n",
       "      <td>5</td>\n",
       "      <td>6.0</td>\n",
       "      <td>大专</td>\n",
       "      <td>移动互联网</td>\n",
       "      <td>1-3年</td>\n",
       "      <td>https://www.zhipin.com/gongsi/b3867417d88d80ce03B93d27EQ~~.html</td>\n",
       "    </tr>\n",
       "    <tr>\n",
       "      <th>4012</th>\n",
       "      <td>Python</td>\n",
       "      <td>呼和浩特</td>\n",
       "      <td>呼和浩特·赛罕区·大学东路</td>\n",
       "      <td>鄂尔浑软件</td>\n",
       "      <td>5-10K</td>\n",
       "      <td>10</td>\n",
       "      <td>5</td>\n",
       "      <td>7.5</td>\n",
       "      <td>高中</td>\n",
       "      <td>电子商务</td>\n",
       "      <td>1-3年</td>\n",
       "      <td>https://www.zhipin.com/gongsi/35d66a6f36fb31710HV73d65GA~~.html</td>\n",
       "    </tr>\n",
       "    <tr>\n",
       "      <th>4013</th>\n",
       "      <td>Python</td>\n",
       "      <td>呼和浩特</td>\n",
       "      <td>呼和浩特</td>\n",
       "      <td>爱扽防伪</td>\n",
       "      <td>10-15K</td>\n",
       "      <td>15</td>\n",
       "      <td>10</td>\n",
       "      <td>12.5</td>\n",
       "      <td>大专</td>\n",
       "      <td>计算机软件</td>\n",
       "      <td>经验不限</td>\n",
       "      <td>https://www.zhipin.com/gongsi/6de58ef017ef6f821nZ539m6FFI~.html</td>\n",
       "    </tr>\n",
       "  </tbody>\n",
       "</table>\n",
       "<p>3939 rows × 12 columns</p>\n",
       "</div>"
      ],
      "text/plain": [
       "               工作名称  工作城市            工作地点   工作公司        工作薪资 最大薪资(K) 最小薪资(K)  \\\n",
       "0     高级python开发工程师    北京      北京·朝阳区·百子湾    迈外迪      20-35K      35      20   \n",
       "1         Python工程师    北京      北京·海淀区·西北旺   纬创软件      15-24K      24      15   \n",
       "2           仿真开发工程师    北京      北京·海淀区·五道口  魔门塔科技      20-40K      40      20   \n",
       "3          软件工程师-通才    北京      北京·海淀区·西北旺   小马慧行  30-60K·16薪      60      30   \n",
       "4        数据服务技术支持专家    北京       北京·朝阳区·鸟巢   今日头条      15-30K      30      15   \n",
       "...             ...   ...             ...    ...         ...     ...     ...   \n",
       "4009         RPA工程师  呼和浩特  呼和浩特·赛罕区·乌兰察布路   揉石科技        4-8K       8       4   \n",
       "4010    Python开发工程师  呼和浩特     呼和浩特·新城区·鼓楼   亿丰项目      10-14K      14      10   \n",
       "4011    Python开发工程师  呼和浩特     呼和浩特·新城区·鼓楼     巨鹏        5-7K       7       5   \n",
       "4012         Python  呼和浩特   呼和浩特·赛罕区·大学东路  鄂尔浑软件       5-10K      10       5   \n",
       "4013         Python  呼和浩特            呼和浩特   爱扽防伪      10-15K      15      10   \n",
       "\n",
       "      平均工资(K) 工作学历   工作标签   工作经验  \\\n",
       "0        27.5   本科    新零售  5-10年   \n",
       "1        19.5   大专  计算机软件   3-5年   \n",
       "2        30.0   本科  计算机软件   1-3年   \n",
       "3        45.0   本科    互联网   3-5年   \n",
       "4        22.5   本科  移动互联网   3-5年   \n",
       "...       ...  ...    ...    ...   \n",
       "4009      6.0   大专  计算机软件   1-3年   \n",
       "4010     12.0   本科  计算机软件   1-3年   \n",
       "4011      6.0   大专  移动互联网   1-3年   \n",
       "4012      7.5   高中   电子商务   1-3年   \n",
       "4013     12.5   大专  计算机软件   经验不限   \n",
       "\n",
       "                                                              招聘详情页链接  \n",
       "0     https://www.zhipin.com/gongsi/7fdcdfff003aeae11XZ_3dW9Eg~~.html  \n",
       "1     https://www.zhipin.com/gongsi/fc705eb462e9b27b1HJ-2t60GA~~.html  \n",
       "2         https://www.zhipin.com/gongsi/a3fff9582538ae7f03J92d27.html  \n",
       "3     https://www.zhipin.com/gongsi/946657ff8adb68be3nFy3928GQ~~.html  \n",
       "4         https://www.zhipin.com/gongsi/a67b361452e384e71XV82N4~.html  \n",
       "...                                                               ...  \n",
       "4009  https://www.zhipin.com/gongsi/a264063df7f97eb91nBz0966F1Q~.html  \n",
       "4010  https://www.zhipin.com/gongsi/92a8541420b8858e0nx439y4EA~~.html  \n",
       "4011  https://www.zhipin.com/gongsi/b3867417d88d80ce03B93d27EQ~~.html  \n",
       "4012  https://www.zhipin.com/gongsi/35d66a6f36fb31710HV73d65GA~~.html  \n",
       "4013  https://www.zhipin.com/gongsi/6de58ef017ef6f821nZ539m6FFI~.html  \n",
       "\n",
       "[3939 rows x 12 columns]"
      ]
     },
     "execution_count": 16,
     "metadata": {},
     "output_type": "execute_result"
    }
   ],
   "source": [
    "df"
   ]
  },
  {
   "cell_type": "code",
   "execution_count": 17,
   "metadata": {
    "collapsed": false
   },
   "outputs": [],
   "source": [
    "df.to_csv(\"job_clean.csv\",encoding = \"utf_8_sig\")"
   ]
  },
  {
   "cell_type": "code",
   "execution_count": null,
   "id": "0683ccad",
   "metadata": {},
   "outputs": [],
   "source": []
  }
 ],
 "metadata": {
  "kernelspec": {
   "display_name": "Python 3",
   "language": "python",
   "name": "python3"
  },
  "language_info": {
   "codemirror_mode": {
    "name": "ipython",
    "version": 3
   },
   "file_extension": ".py",
   "mimetype": "text/x-python",
   "name": "python",
   "nbconvert_exporter": "python",
   "pygments_lexer": "ipython3",
   "version": "3.10.6"
  }
 },
 "nbformat": 4,
 "nbformat_minor": 5
}
